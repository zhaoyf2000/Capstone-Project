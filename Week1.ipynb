{
 "cells": [
  {
   "cell_type": "markdown",
   "metadata": {},
   "source": [
    "INTRODUCTION\n",
    "\n",
    "   According to numbers released by the U.S. Census Bureau, Three of the 15 fastest-growing large cities — defined by the bureau as having populations of more than 50,000 — are in North Texas, as is the city with the third-highest numeric population growth. So it should be no surprise that U-Haul calculated the Dallas neighbor\n",
    "as one of the top U.S. cities for growth and employment opportunities are keep increasing with the booming of \n",
    "Dallas areas.\n",
    "    My Friend, XY, has been offered a great opportunity to work for a leading firm in Dallas city. He is very excited at this opportunity while a little bit worried about the new environment he is going to move to.   Acknowledged that I have learned some geo data analysis skills, he approached me for help. So the key question is: How can my friend find a convenient and enjoyable place to live in Dallas city?\n",
    "    My friend and I sit down and set some basis to select a neighborhood in Dallas city for his new home. We both agree that it is vital to look at some demographic statistics in the neighborhood such as average housing prices, average commute time, populations statistics, etc. Also, my friend is a outdoor person who likes spending his time outside in the fresh air. his favorite is to walk or running in a park nearby after work. So a home with parks around would be an ideal place to live.Thus, the objective  is to locate and recommend to the my friend which neighborhood of Dallas city will be best choice to relocate. And my friend expects me to provide the rationale in this challenging, and sometimes confusing task. \n",
    "     With the booming of Dallas economy and its population, this analysis is also applicable for anyone interested in exploring new opportunities in any city. The success criteria of the project will be a good recommendation of Neighborhood choice to XY based on neighborhood avenues and demographics of the neighborhoods."
   ]
  },
  {
   "cell_type": "markdown",
   "metadata": {},
   "source": [
    "DATA PREPARATION\n",
    "\n",
    "The data acquired for this project is a combination of data from three sources:\n",
    "1.Scraping Dallas Neighborhood Table from website:\n",
    "        I first make use of Dallas neighborhoods guides page on ‘https://neighborhoods.dmagazine.com/’ to scrap \n",
    "        the table to create a data-frame. For this, I’ve used requests and Beautifulsoup4 library to create a \n",
    "        data-frame containing name of the 57 neighborhoods of  Dallas city with some important demographic \n",
    "        variables including: neighborhood , population, area, population density, median age, percent of 18+ age,\n",
    "        household income, median home value, owner percent, commute time.\n",
    "2.Getting Coordinates of Neighborhoods by using Geocoder package : \n",
    "        When we have the names of neighborhoods, the next objective is to get the  coordinates of these 57 major \n",
    "        neighborhoods using geocoder class of arcgis function.\n",
    "3.Using Foursquare Location Data:\n",
    "        Foursquare data is very comprehensive and it powers location data for Apple, Uber etc. For this business \n",
    "        problem I have used, as a part of the assignment, the Foursquare API to retrieve information about the             popular spots around these 57 neighborhoods. Here I’ve chosen 100 popular venues for each neighborhood             within a radius of 1 km. \n",
    "        The processing of these data will help in answering some key questions : What is the neighborhoods with           parks or outside activities easily accessible? What population constititue each neighborhood? How long is         the average commute time for the neighborhood? Other interesting findings of the neighborhoods from the           data overall?\n",
    "        The insights derived from analysis of neighborhoods will give good understanding of the avenues which help         in XY’s decisions to target a new home.\n",
    "\n",
    "\n"
   ]
  },
  {
   "cell_type": "code",
   "execution_count": null,
   "metadata": {},
   "outputs": [],
   "source": []
  }
 ],
 "metadata": {
  "kernelspec": {
   "display_name": "Python 3",
   "language": "python",
   "name": "python3"
  },
  "language_info": {
   "codemirror_mode": {
    "name": "ipython",
    "version": 3
   },
   "file_extension": ".py",
   "mimetype": "text/x-python",
   "name": "python",
   "nbconvert_exporter": "python",
   "pygments_lexer": "ipython3",
   "version": "3.7.4"
  }
 },
 "nbformat": 4,
 "nbformat_minor": 4
}
